{
 "cells": [
  {
   "cell_type": "markdown",
   "metadata": {
    "collapsed": true,
    "pycharm": {
     "name": "#%% md\n"
    }
   },
   "source": [
    "# Introduction\n",
    "\n",
    "This notebook provides an analysis of the returns of the S&P 500 over a select number of time periods with data going back\n",
    "to 2007. The objective is to understand how different time periods affect the distribution of returns in order to evaluate\n",
    "the modeling process for forecasting returns into the future."
   ]
  },
  {
   "cell_type": "markdown",
   "metadata": {
    "pycharm": {
     "name": "#%% md\n"
    }
   },
   "source": [
    "# Step 1: Load and transform the data"
   ]
  },
  {
   "cell_type": "code",
   "execution_count": 1,
   "metadata": {
    "pycharm": {
     "name": "#%%\n"
    }
   },
   "outputs": [],
   "source": [
    "import os\n",
    "import matplotlib.pyplot as plt\n",
    "\n",
    "data_file_path = os.path.expanduser('~/Documents/projects/spyndicator-data/SPX_1min.txt')"
   ]
  },
  {
   "cell_type": "code",
   "execution_count": 15,
   "metadata": {
    "pycharm": {
     "name": "#%%\n"
    }
   },
   "outputs": [],
   "source": [
    "# The data file above was acquired from First Rate Data, and it comes in a CSV format without headers\n",
    "import pandas as pd\n",
    "pd.set_option('display.float_format', lambda x: '%.5f' % x)\n",
    "stock_quotes = pd.read_csv(data_file_path, header = None)"
   ]
  },
  {
   "cell_type": "code",
   "execution_count": 16,
   "metadata": {
    "pycharm": {
     "name": "#%%\n"
    }
   },
   "outputs": [
    {
     "data": {
      "text/html": [
       "<div>\n",
       "<style scoped>\n",
       "    .dataframe tbody tr th:only-of-type {\n",
       "        vertical-align: middle;\n",
       "    }\n",
       "\n",
       "    .dataframe tbody tr th {\n",
       "        vertical-align: top;\n",
       "    }\n",
       "\n",
       "    .dataframe thead th {\n",
       "        text-align: right;\n",
       "    }\n",
       "</style>\n",
       "<table border=\"1\" class=\"dataframe\">\n",
       "  <thead>\n",
       "    <tr style=\"text-align: right;\">\n",
       "      <th></th>\n",
       "      <th>0</th>\n",
       "      <th>1</th>\n",
       "      <th>2</th>\n",
       "      <th>3</th>\n",
       "      <th>4</th>\n",
       "    </tr>\n",
       "  </thead>\n",
       "  <tbody>\n",
       "    <tr>\n",
       "      <th>0</th>\n",
       "      <td>2007-04-30 09:29:00</td>\n",
       "      <td>1494.07000</td>\n",
       "      <td>1494.07000</td>\n",
       "      <td>1494.07000</td>\n",
       "      <td>1494.07000</td>\n",
       "    </tr>\n",
       "    <tr>\n",
       "      <th>1</th>\n",
       "      <td>2007-04-30 09:30:00</td>\n",
       "      <td>1494.07000</td>\n",
       "      <td>1494.89000</td>\n",
       "      <td>1494.07000</td>\n",
       "      <td>1494.89000</td>\n",
       "    </tr>\n",
       "    <tr>\n",
       "      <th>2</th>\n",
       "      <td>2007-04-30 09:31:00</td>\n",
       "      <td>1494.60000</td>\n",
       "      <td>1494.60000</td>\n",
       "      <td>1494.48000</td>\n",
       "      <td>1494.48000</td>\n",
       "    </tr>\n",
       "    <tr>\n",
       "      <th>3</th>\n",
       "      <td>2007-04-30 09:32:00</td>\n",
       "      <td>1494.49000</td>\n",
       "      <td>1494.82000</td>\n",
       "      <td>1494.49000</td>\n",
       "      <td>1494.77000</td>\n",
       "    </tr>\n",
       "    <tr>\n",
       "      <th>4</th>\n",
       "      <td>2007-04-30 09:33:00</td>\n",
       "      <td>1494.84000</td>\n",
       "      <td>1495.32000</td>\n",
       "      <td>1494.84000</td>\n",
       "      <td>1495.29000</td>\n",
       "    </tr>\n",
       "  </tbody>\n",
       "</table>\n",
       "</div>"
      ],
      "text/plain": [
       "                     0          1          2          3          4\n",
       "0  2007-04-30 09:29:00 1494.07000 1494.07000 1494.07000 1494.07000\n",
       "1  2007-04-30 09:30:00 1494.07000 1494.89000 1494.07000 1494.89000\n",
       "2  2007-04-30 09:31:00 1494.60000 1494.60000 1494.48000 1494.48000\n",
       "3  2007-04-30 09:32:00 1494.49000 1494.82000 1494.49000 1494.77000\n",
       "4  2007-04-30 09:33:00 1494.84000 1495.32000 1494.84000 1495.29000"
      ]
     },
     "execution_count": 16,
     "metadata": {},
     "output_type": "execute_result"
    }
   ],
   "source": [
    "stock_quotes.head()"
   ]
  },
  {
   "cell_type": "code",
   "execution_count": 17,
   "metadata": {
    "pycharm": {
     "name": "#%%\n"
    }
   },
   "outputs": [],
   "source": [
    "stock_quotes.columns = [\"Datetime\", \"Open\", \"High\", \"Low\", \"Close\"]"
   ]
  },
  {
   "cell_type": "code",
   "execution_count": 18,
   "metadata": {
    "pycharm": {
     "name": "#%%\n"
    }
   },
   "outputs": [],
   "source": [
    "stock_quotes[\"Datetime\"] = pd.to_datetime(stock_quotes[\"Datetime\"])"
   ]
  },
  {
   "cell_type": "code",
   "execution_count": 19,
   "metadata": {
    "pycharm": {
     "name": "#%%\n"
    }
   },
   "outputs": [],
   "source": [
    "stock_quotes = stock_quotes.set_index('Datetime')"
   ]
  },
  {
   "cell_type": "code",
   "execution_count": 20,
   "metadata": {
    "pycharm": {
     "name": "#%%\n"
    }
   },
   "outputs": [
    {
     "data": {
      "text/html": [
       "<div>\n",
       "<style scoped>\n",
       "    .dataframe tbody tr th:only-of-type {\n",
       "        vertical-align: middle;\n",
       "    }\n",
       "\n",
       "    .dataframe tbody tr th {\n",
       "        vertical-align: top;\n",
       "    }\n",
       "\n",
       "    .dataframe thead th {\n",
       "        text-align: right;\n",
       "    }\n",
       "</style>\n",
       "<table border=\"1\" class=\"dataframe\">\n",
       "  <thead>\n",
       "    <tr style=\"text-align: right;\">\n",
       "      <th></th>\n",
       "      <th>Open</th>\n",
       "      <th>High</th>\n",
       "      <th>Low</th>\n",
       "      <th>Close</th>\n",
       "    </tr>\n",
       "    <tr>\n",
       "      <th>Datetime</th>\n",
       "      <th></th>\n",
       "      <th></th>\n",
       "      <th></th>\n",
       "      <th></th>\n",
       "    </tr>\n",
       "  </thead>\n",
       "  <tbody>\n",
       "    <tr>\n",
       "      <th>2007-04-30 09:29:00</th>\n",
       "      <td>1494.07000</td>\n",
       "      <td>1494.07000</td>\n",
       "      <td>1494.07000</td>\n",
       "      <td>1494.07000</td>\n",
       "    </tr>\n",
       "    <tr>\n",
       "      <th>2007-04-30 09:30:00</th>\n",
       "      <td>1494.07000</td>\n",
       "      <td>1494.89000</td>\n",
       "      <td>1494.07000</td>\n",
       "      <td>1494.89000</td>\n",
       "    </tr>\n",
       "    <tr>\n",
       "      <th>2007-04-30 09:31:00</th>\n",
       "      <td>1494.60000</td>\n",
       "      <td>1494.60000</td>\n",
       "      <td>1494.48000</td>\n",
       "      <td>1494.48000</td>\n",
       "    </tr>\n",
       "    <tr>\n",
       "      <th>2007-04-30 09:32:00</th>\n",
       "      <td>1494.49000</td>\n",
       "      <td>1494.82000</td>\n",
       "      <td>1494.49000</td>\n",
       "      <td>1494.77000</td>\n",
       "    </tr>\n",
       "    <tr>\n",
       "      <th>2007-04-30 09:33:00</th>\n",
       "      <td>1494.84000</td>\n",
       "      <td>1495.32000</td>\n",
       "      <td>1494.84000</td>\n",
       "      <td>1495.29000</td>\n",
       "    </tr>\n",
       "  </tbody>\n",
       "</table>\n",
       "</div>"
      ],
      "text/plain": [
       "                          Open       High        Low      Close\n",
       "Datetime                                                       \n",
       "2007-04-30 09:29:00 1494.07000 1494.07000 1494.07000 1494.07000\n",
       "2007-04-30 09:30:00 1494.07000 1494.89000 1494.07000 1494.89000\n",
       "2007-04-30 09:31:00 1494.60000 1494.60000 1494.48000 1494.48000\n",
       "2007-04-30 09:32:00 1494.49000 1494.82000 1494.49000 1494.77000\n",
       "2007-04-30 09:33:00 1494.84000 1495.32000 1494.84000 1495.29000"
      ]
     },
     "execution_count": 20,
     "metadata": {},
     "output_type": "execute_result"
    }
   ],
   "source": [
    "stock_quotes.head()"
   ]
  },
  {
   "cell_type": "code",
   "execution_count": 21,
   "metadata": {
    "pycharm": {
     "name": "#%%\n"
    }
   },
   "outputs": [
    {
     "data": {
      "text/html": [
       "<div>\n",
       "<style scoped>\n",
       "    .dataframe tbody tr th:only-of-type {\n",
       "        vertical-align: middle;\n",
       "    }\n",
       "\n",
       "    .dataframe tbody tr th {\n",
       "        vertical-align: top;\n",
       "    }\n",
       "\n",
       "    .dataframe thead th {\n",
       "        text-align: right;\n",
       "    }\n",
       "</style>\n",
       "<table border=\"1\" class=\"dataframe\">\n",
       "  <thead>\n",
       "    <tr style=\"text-align: right;\">\n",
       "      <th></th>\n",
       "      <th>Open</th>\n",
       "      <th>High</th>\n",
       "      <th>Low</th>\n",
       "      <th>Close</th>\n",
       "    </tr>\n",
       "  </thead>\n",
       "  <tbody>\n",
       "    <tr>\n",
       "      <th>count</th>\n",
       "      <td>1566718.00000</td>\n",
       "      <td>1566718.00000</td>\n",
       "      <td>1566718.00000</td>\n",
       "      <td>1566718.00000</td>\n",
       "    </tr>\n",
       "    <tr>\n",
       "      <th>mean</th>\n",
       "      <td>2201.15189</td>\n",
       "      <td>2201.54341</td>\n",
       "      <td>2200.76072</td>\n",
       "      <td>2201.15243</td>\n",
       "    </tr>\n",
       "    <tr>\n",
       "      <th>std</th>\n",
       "      <td>1019.97663</td>\n",
       "      <td>1020.20310</td>\n",
       "      <td>1019.74902</td>\n",
       "      <td>1019.97649</td>\n",
       "    </tr>\n",
       "    <tr>\n",
       "      <th>min</th>\n",
       "      <td>666.90000</td>\n",
       "      <td>667.04000</td>\n",
       "      <td>666.79000</td>\n",
       "      <td>666.79000</td>\n",
       "    </tr>\n",
       "    <tr>\n",
       "      <th>25%</th>\n",
       "      <td>1348.51250</td>\n",
       "      <td>1348.76000</td>\n",
       "      <td>1348.32000</td>\n",
       "      <td>1348.52000</td>\n",
       "    </tr>\n",
       "    <tr>\n",
       "      <th>50%</th>\n",
       "      <td>2009.01000</td>\n",
       "      <td>2009.30000</td>\n",
       "      <td>2008.69000</td>\n",
       "      <td>2009.00000</td>\n",
       "    </tr>\n",
       "    <tr>\n",
       "      <th>75%</th>\n",
       "      <td>2819.90000</td>\n",
       "      <td>2820.46000</td>\n",
       "      <td>2819.34750</td>\n",
       "      <td>2819.89000</td>\n",
       "    </tr>\n",
       "    <tr>\n",
       "      <th>max</th>\n",
       "      <td>4817.77000</td>\n",
       "      <td>4818.62000</td>\n",
       "      <td>4816.45000</td>\n",
       "      <td>4817.67000</td>\n",
       "    </tr>\n",
       "  </tbody>\n",
       "</table>\n",
       "</div>"
      ],
      "text/plain": [
       "               Open          High           Low         Close\n",
       "count 1566718.00000 1566718.00000 1566718.00000 1566718.00000\n",
       "mean     2201.15189    2201.54341    2200.76072    2201.15243\n",
       "std      1019.97663    1020.20310    1019.74902    1019.97649\n",
       "min       666.90000     667.04000     666.79000     666.79000\n",
       "25%      1348.51250    1348.76000    1348.32000    1348.52000\n",
       "50%      2009.01000    2009.30000    2008.69000    2009.00000\n",
       "75%      2819.90000    2820.46000    2819.34750    2819.89000\n",
       "max      4817.77000    4818.62000    4816.45000    4817.67000"
      ]
     },
     "execution_count": 21,
     "metadata": {},
     "output_type": "execute_result"
    }
   ],
   "source": [
    "stock_quotes.describe()"
   ]
  },
  {
   "cell_type": "markdown",
   "metadata": {
    "pycharm": {
     "name": "#%% md\n"
    }
   },
   "source": [
    "# Step 2: Analyze the returns over multiple time periods\n",
    "\n",
    "Since the objective of creating a model is to forecast the _closing price_ of the S&P 500 for a particular time period (i.e. same day, tomorrow, end of week, etc) at any point in time, we need to start to understand the distribution of returns for these time periods using historical data.\n",
    "\n",
    "For now, we will target the following time periods to analyze:\n",
    "\n",
    "- From start of day to end of day\n",
    "- From 10:30 AM to end of day\n",
    "- From noon to end of day\n",
    "- From 1 PM to end of day\n",
    "- From 2 PM to end of day\n",
    "- From 3 PM to end of day\n",
    "- From 3:30 PM to end of day\n",
    "- From any time in the current day to the end of the day on the next day\n",
    "- From any time in the current day to the end of the next Friday"
   ]
  },
  {
   "cell_type": "code",
   "execution_count": 36,
   "metadata": {
    "pycharm": {
     "name": "#%%\n"
    }
   },
   "outputs": [],
   "source": [
    "MinutesInHour = 60\n",
    "GetEndOfWeek = \"Next Friday\"\n",
    "\n",
    "Time930 = \"09:30\"\n",
    "Time1030 = \"10:30\"\n",
    "Time1200 = \"12:00\"\n",
    "Time1300 = \"13:00\"\n",
    "Time1400 = \"14:00\"\n",
    "Time1500 = \"15:00\"\n",
    "Time1530 = \"15:30\"\n",
    "\n",
    "starting_times = [Time930, Time1030, Time1200, Time1300, Time1400, Time1500, Time1530]"
   ]
  },
  {
   "cell_type": "code",
   "execution_count": 35,
   "metadata": {
    "pycharm": {
     "name": "#%%\n"
    }
   },
   "outputs": [],
   "source": [
    "def get_period_for_percent_change(start_time: str, days_to_add: int):\n",
    "     \"\"\"\n",
    "     This method calculates the frequency that needs to be used with pandas' `pct_change` function to get the percentage return at the end of a trading day given the starting period\n",
    "\n",
    "     :param start_time (str): The starting time for the current day\n",
    "     :param days_to_add (int): The number of days to add\n",
    "     :return (int): The frequency to use for the percentage change function assuming we have minutely data\n",
    "     \"\"\"\n",
    "\n",
    "     if not isinstance(days_to_add, int):\n",
    "         raise Exception(f\"Invalid number of days to add: {days_to_add}\")\n",
    "\n",
    "     if days_to_add == 0:\n",
    "         if start_time == Time930:\n",
    "              return 6 * MinutesInHour + 30\n",
    "         elif start_time == Time1030:\n",
    "              return 5 * MinutesInHour + 30\n",
    "         elif start_time == Time1200:\n",
    "              return 4 * MinutesInHour\n",
    "         elif start_time == Time1300:\n",
    "              return 3 * MinutesInHour\n",
    "         elif start_time == Time1400:\n",
    "              return 2 * MinutesInHour\n",
    "         elif start_time == Time1500:\n",
    "              return MinutesInHour\n",
    "         elif start_time == Time1530:\n",
    "              return 30\n",
    "     else:\n",
    "          return (24 * days_to_add) * MinutesInHour + (6 * MinutesInHour + 30) # Just use the return from the end of the next day to the start of the current day"
   ]
  },
  {
   "cell_type": "code",
   "execution_count": 40,
   "metadata": {
    "pycharm": {
     "name": "#%%\n"
    }
   },
   "outputs": [],
   "source": [
    "def show_distribution(start_time: str, days_to_add: object = 0):\n",
    "     \"\"\"\n",
    "     In this method, we need to take our stock prices and convert them into returns for the time periods we mentioned above. Because we have minutely data, the way we're going to handle this is to use pandas' `pct_change` feature to take the difference between the end of a trading day (either the current day, or a day specified in the future) and the current row, using the correct value for the frequency, and then drop all rows that are not at the end of the trading day\n",
    "     \"\"\"\n",
    "\n",
    "     if days_to_add == GetEndOfWeek or not isinstance(days_to_add, int):\n",
    "         raise(\"Can't do this yet\")\n",
    "\n",
    "     period_for_percent_change = get_period_for_percent_change(start_time, days_to_add)\n",
    "     closing_returns = stock_quotes.pct_change(period_for_percent_change).between_time(\"16:00\", \"16:00\", inclusive = \"both\").dropna()[\"Close\"] * 100\n",
    "     print(closing_returns.describe())\n",
    "     closing_returns.hist(bins = 50)"
   ]
  },
  {
   "cell_type": "markdown",
   "metadata": {
    "pycharm": {
     "name": "#%% md\n"
    }
   },
   "source": [
    "## Beginning of day"
   ]
  },
  {
   "cell_type": "code",
   "execution_count": 41,
   "metadata": {
    "pycharm": {
     "name": "#%%\n"
    }
   },
   "outputs": [
    {
     "name": "stdout",
     "output_type": "stream",
     "text": [
      "count   3930.00000\n",
      "mean       0.00969\n",
      "std        1.02717\n",
      "min       -7.98242\n",
      "25%       -0.37079\n",
      "50%        0.05867\n",
      "75%        0.46151\n",
      "max        8.86607\n",
      "Name: Close, dtype: float64\n"
     ]
    },
    {
     "data": {
      "image/png": "[encoded data removed]",
      "text/plain": [
       "<Figure size 640x480 with 1 Axes>"
      ]
     },
     "metadata": {},
     "output_type": "display_data"
    }
   ],
   "source": [
    "show_distribution(Time930)"
   ]
  },
  {
   "cell_type": "markdown",
   "metadata": {
    "pycharm": {
     "name": "#%% md\n"
    }
   },
   "source": [
    "## 10:30 AM"
   ]
  },
  {
   "cell_type": "code",
   "execution_count": 43,
   "metadata": {
    "pycharm": {
     "name": "#%%\n"
    }
   },
   "outputs": [
    {
     "name": "stdout",
     "output_type": "stream",
     "text": [
      "count   3930.00000\n",
      "mean       0.00836\n",
      "std        0.87679\n",
      "min       -6.57127\n",
      "25%       -0.30671\n",
      "50%        0.05192\n",
      "75%        0.38937\n",
      "max        8.66726\n",
      "Name: Close, dtype: float64\n"
     ]
    },
    {
     "data": {
      "image/png": "[encoded data removed]",
      "text/plain": [
       "<Figure size 640x480 with 1 Axes>"
      ]
     },
     "metadata": {},
     "output_type": "display_data"
    }
   ],
   "source": [
    "show_distribution(Time1030)"
   ]
  },
  {
   "cell_type": "markdown",
   "metadata": {
    "pycharm": {
     "name": "#%% md\n"
    }
   },
   "source": [
    "## Noon"
   ]
  },
  {
   "cell_type": "code",
   "execution_count": 44,
   "metadata": {
    "pycharm": {
     "name": "#%%\n"
    }
   },
   "outputs": [
    {
     "name": "stdout",
     "output_type": "stream",
     "text": [
      "count   3930.00000\n",
      "mean       0.01070\n",
      "std        0.76089\n",
      "min       -6.06446\n",
      "25%       -0.24339\n",
      "50%        0.04470\n",
      "75%        0.30020\n",
      "max        9.65710\n",
      "Name: Close, dtype: float64\n"
     ]
    },
    {
     "data": {
      "image/png": "[encoded data removed]",
      "text/plain": [
       "<Figure size 640x480 with 1 Axes>"
      ]
     },
     "metadata": {},
     "output_type": "display_data"
    }
   ],
   "source": [
    "show_distribution(Time1200)"
   ]
  },
  {
   "cell_type": "markdown",
   "metadata": {
    "pycharm": {
     "name": "#%% md\n"
    }
   },
   "source": [
    "## 1:00 PM"
   ]
  },
  {
   "cell_type": "code",
   "execution_count": 45,
   "metadata": {
    "pycharm": {
     "name": "#%%\n"
    }
   },
   "outputs": [
    {
     "name": "stdout",
     "output_type": "stream",
     "text": [
      "count   3930.00000\n",
      "mean       0.00949\n",
      "std        0.72255\n",
      "min       -6.68887\n",
      "25%       -0.22819\n",
      "50%        0.02695\n",
      "75%        0.26192\n",
      "max       10.91435\n",
      "Name: Close, dtype: float64\n"
     ]
    },
    {
     "data": {
      "image/png": "[encoded data removed]",
      "text/plain": [
       "<Figure size 640x480 with 1 Axes>"
      ]
     },
     "metadata": {},
     "output_type": "display_data"
    }
   ],
   "source": [
    "show_distribution(Time1300)"
   ]
  },
  {
   "cell_type": "markdown",
   "metadata": {
    "pycharm": {
     "name": "#%% md\n"
    }
   },
   "source": [
    "## 2 PM"
   ]
  },
  {
   "cell_type": "code",
   "execution_count": 46,
   "metadata": {
    "pycharm": {
     "name": "#%%\n"
    }
   },
   "outputs": [
    {
     "name": "stdout",
     "output_type": "stream",
     "text": [
      "count   3930.00000\n",
      "mean       0.01070\n",
      "std        0.76089\n",
      "min       -6.06446\n",
      "25%       -0.24339\n",
      "50%        0.04470\n",
      "75%        0.30020\n",
      "max        9.65710\n",
      "Name: Close, dtype: float64\n"
     ]
    },
    {
     "data": {
      "image/png": "[encoded data removed]",
      "text/plain": [
       "<Figure size 640x480 with 1 Axes>"
      ]
     },
     "metadata": {},
     "output_type": "display_data"
    }
   ],
   "source": [
    "show_distribution(Time1200)"
   ]
  },
  {
   "cell_type": "markdown",
   "metadata": {
    "pycharm": {
     "name": "#%% md\n"
    }
   },
   "source": [
    "## 3 PM"
   ]
  },
  {
   "cell_type": "code",
   "execution_count": 47,
   "metadata": {
    "pycharm": {
     "name": "#%%\n"
    }
   },
   "outputs": [
    {
     "name": "stdout",
     "output_type": "stream",
     "text": [
      "count   3930.00000\n",
      "mean       0.00215\n",
      "std        0.52659\n",
      "min       -4.75255\n",
      "25%       -0.15540\n",
      "50%        0.00713\n",
      "75%        0.16186\n",
      "max        6.26942\n",
      "Name: Close, dtype: float64\n"
     ]
    },
    {
     "data": {
      "image/png": "[encoded data removed]",
      "text/plain": [
       "<Figure size 640x480 with 1 Axes>"
      ]
     },
     "metadata": {},
     "output_type": "display_data"
    }
   ],
   "source": [
    "show_distribution(Time1500)"
   ]
  },
  {
   "cell_type": "markdown",
   "metadata": {
    "pycharm": {
     "name": "#%% md\n"
    }
   },
   "source": [
    "## 3:30 PM"
   ]
  },
  {
   "cell_type": "code",
   "execution_count": 48,
   "metadata": {
    "pycharm": {
     "name": "#%%\n"
    }
   },
   "outputs": [
    {
     "name": "stdout",
     "output_type": "stream",
     "text": [
      "count   3930.00000\n",
      "mean      -0.00272\n",
      "std        0.38934\n",
      "min       -4.05222\n",
      "25%       -0.12315\n",
      "50%        0.00184\n",
      "75%        0.12681\n",
      "max        4.78464\n",
      "Name: Close, dtype: float64\n"
     ]
    },
    {
     "data": {
      "image/png": "[encoded data removed]",
      "text/plain": [
       "<Figure size 640x480 with 1 Axes>"
      ]
     },
     "metadata": {},
     "output_type": "display_data"
    }
   ],
   "source": [
    "show_distribution(Time1530)"
   ]
  },
  {
   "cell_type": "markdown",
   "metadata": {
    "pycharm": {
     "name": "#%% md\n"
    }
   },
   "source": [
    "## Next day"
   ]
  },
  {
   "cell_type": "code",
   "execution_count": 49,
   "metadata": {
    "pycharm": {
     "name": "#%%\n"
    }
   },
   "outputs": [
    {
     "name": "stdout",
     "output_type": "stream",
     "text": [
      "count   3926.00000\n",
      "mean       0.13311\n",
      "std        2.36402\n",
      "min      -19.65531\n",
      "25%       -0.90303\n",
      "50%        0.33676\n",
      "75%        1.35392\n",
      "max       15.11546\n",
      "Name: Close, dtype: float64\n"
     ]
    },
    {
     "data": {
      "image/png": "[encoded data removed]",
      "text/plain": [
       "<Figure size 640x480 with 1 Axes>"
      ]
     },
     "metadata": {},
     "output_type": "display_data"
    }
   ],
   "source": [
    "show_distribution(Time930, 1)"
   ]
  },
  {
   "cell_type": "markdown",
   "metadata": {
    "pycharm": {
     "name": "#%% md\n"
    }
   },
   "source": [
    "## 2 Days Out"
   ]
  },
  {
   "cell_type": "code",
   "execution_count": 51,
   "metadata": {
    "pycharm": {
     "name": "#%%\n"
    }
   },
   "outputs": [
    {
     "name": "stdout",
     "output_type": "stream",
     "text": [
      "count   3922.00000\n",
      "mean       0.26201\n",
      "std        3.16414\n",
      "min      -22.99453\n",
      "25%       -1.09412\n",
      "50%        0.57955\n",
      "75%        1.90866\n",
      "max       18.44424\n",
      "Name: Close, dtype: float64\n"
     ]
    },
    {
     "data": {
      "image/png": "[encoded data removed]",
      "text/plain": [
       "<Figure size 640x480 with 1 Axes>"
      ]
     },
     "metadata": {},
     "output_type": "display_data"
    }
   ],
   "source": [
    "show_distribution(Time930, 2)"
   ]
  },
  {
   "cell_type": "markdown",
   "metadata": {
    "pycharm": {
     "name": "#%% md\n"
    }
   },
   "source": [
    "## 3 Days Out"
   ]
  },
  {
   "cell_type": "code",
   "execution_count": 53,
   "metadata": {
    "pycharm": {
     "name": "#%%\n"
    }
   },
   "outputs": [
    {
     "name": "stdout",
     "output_type": "stream",
     "text": [
      "count   3919.00000\n",
      "mean       0.36174\n",
      "std        3.71276\n",
      "min      -25.15290\n",
      "25%       -1.24569\n",
      "50%        0.78594\n",
      "75%        2.39203\n",
      "max       20.34005\n",
      "Name: Close, dtype: float64\n"
     ]
    },
    {
     "data": {
      "image/png": "[encoded data removed]",
      "text/plain": [
       "<Figure size 640x480 with 1 Axes>"
      ]
     },
     "metadata": {},
     "output_type": "display_data"
    }
   ],
   "source": [
    "show_distribution(Time930, 3)"
   ]
  },
  {
   "cell_type": "markdown",
   "metadata": {
    "pycharm": {
     "name": "#%% md\n"
    }
   },
   "source": [
    "## 4 Days Out"
   ]
  },
  {
   "cell_type": "code",
   "execution_count": 54,
   "metadata": {
    "pycharm": {
     "name": "#%%\n"
    }
   },
   "outputs": [
    {
     "name": "stdout",
     "output_type": "stream",
     "text": [
      "count   3915.00000\n",
      "mean       0.47616\n",
      "std        4.26751\n",
      "min      -27.85353\n",
      "25%       -1.31592\n",
      "50%        1.07604\n",
      "75%        2.77225\n",
      "max       28.00070\n",
      "Name: Close, dtype: float64\n"
     ]
    },
    {
     "data": {
      "image/png": "[encoded data removed]",
      "text/plain": [
       "<Figure size 640x480 with 1 Axes>"
      ]
     },
     "metadata": {},
     "output_type": "display_data"
    }
   ],
   "source": [
    "show_distribution(Time930, 4)"
   ]
  },
  {
   "cell_type": "markdown",
   "metadata": {
    "pycharm": {
     "name": "#%% md\n"
    }
   },
   "source": [
    "## 5 Days Out"
   ]
  },
  {
   "cell_type": "code",
   "execution_count": 55,
   "metadata": {
    "pycharm": {
     "name": "#%%\n"
    }
   },
   "outputs": [
    {
     "name": "stdout",
     "output_type": "stream",
     "text": [
      "count   3911.00000\n",
      "mean       0.58575\n",
      "std        4.72697\n",
      "min      -29.28183\n",
      "25%       -1.40459\n",
      "50%        1.26630\n",
      "75%        3.22569\n",
      "max       26.30324\n",
      "Name: Close, dtype: float64\n"
     ]
    },
    {
     "data": {
      "image/png": "[encoded data removed]",
      "text/plain": [
       "<Figure size 640x480 with 1 Axes>"
      ]
     },
     "metadata": {},
     "output_type": "display_data"
    }
   ],
   "source": [
    "show_distribution(Time930, 5)"
   ]
  },
  {
   "cell_type": "code",
   "execution_count": null,
   "metadata": {
    "pycharm": {
     "name": "#%%\n"
    }
   },
   "outputs": [],
   "source": []
  }
 ],
 "metadata": {
  "kernelspec": {
   "display_name": "Python 3 (ipykernel)",
   "language": "python",
   "name": "python3"
  },
  "language_info": {
   "codemirror_mode": {
    "name": "ipython",
    "version": 3
   },
   "file_extension": ".py",
   "mimetype": "text/x-python",
   "name": "python",
   "nbconvert_exporter": "python",
   "pygments_lexer": "ipython3",
   "version": "3.8.3"
  }
 },
 "nbformat": 4,
 "nbformat_minor": 1
}
