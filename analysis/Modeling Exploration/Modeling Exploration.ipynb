{
 "cells": [
  {
   "cell_type": "markdown",
   "metadata": {
    "pycharm": {
     "name": "#%% md\n"
    }
   },
   "source": [
    "In this notebook, we'll start to construct our dataset and explore a few modeling options so that later, we can create an optimized version of our code for production\n",
    "\n",
    "# Dataset and feature construction\n",
    "\n",
    "## Step 1: Get the high-level structure of our dataset in place"
   ]
  },
  {
   "cell_type": "code",
   "execution_count": 840,
   "outputs": [],
   "source": [
    "MinuteFrequencyToSubsample = 15\n",
    "HoursInTradingDay = 6.5\n",
    "MinutesInHour = 60\n",
    "RecordsPerDay = (MinutesInHour * HoursInTradingDay / MinuteFrequencyToSubsample) + 1\n",
    "NameOfColumnForTradingDaysInFuture = \"Trading days in future\"\n",
    "LabelName = \"returns\"\n",
    "\n",
    "# Features\n",
    "Month = \"Month\"\n",
    "Year = \"Year\"\n",
    "Day = \"Day\"\n",
    "DayName = \"Day name\"\n",
    "Quarter = \"Quarter\"\n",
    "MinutesSinceOpen = \"Minutes since open\"\n",
    "IsSameDayClose = \"Is same day close\"\n",
    "CloseColumnName = \"Close\"\n",
    "ReturnSinceLastClose = \"Return since last close\"\n",
    "ReturnSinceOpen = \"Return since open\"\n",
    "ReturnInLast10Minutes = \"Return in last 10 minutes\"\n",
    "\n",
    "\n",
    "TimeframesInTheFutureInTradingDays = [\n",
    "    0.5 / HoursInTradingDay, # 3:30 PM\n",
    "    1.0 / HoursInTradingDay, # 3:00 PM\n",
    "    2.0 / HoursInTradingDay, # 2:00 PM\n",
    "    3.0 / HoursInTradingDay, # 1:00 PM\n",
    "    4.0 / HoursInTradingDay, # 12:00 PM\n",
    "    5.0 / HoursInTradingDay, # 11:00 AM\n",
    "    6.0 / HoursInTradingDay, # 10:00 AM\n",
    "    1.0, # 9:30 AM\n",
    "    2.0,\n",
    "    3.0,\n",
    "    4.0,\n",
    "    5.0\n",
    "]"
   ],
   "metadata": {
    "collapsed": false,
    "pycharm": {
     "name": "#%%\n"
    }
   }
  },
  {
   "cell_type": "code",
   "execution_count": 841,
   "outputs": [],
   "source": [
    "import os\n",
    "from price_modeling.src.main.code.file_based_historical_data_fetcher import FileBasedHistoricalDataFetcher\n",
    "file_path = os.path.expanduser('~/Documents/projects/spyndicator-data/SPX_1min.txt')\n",
    "data_fetcher = FileBasedHistoricalDataFetcher(file_path = file_path)"
   ],
   "metadata": {
    "collapsed": false,
    "pycharm": {
     "name": "#%%\n"
    }
   }
  },
  {
   "cell_type": "code",
   "execution_count": 842,
   "outputs": [],
   "source": [
    "source_data = data_fetcher.get_historical_data()"
   ],
   "metadata": {
    "collapsed": false,
    "pycharm": {
     "name": "#%%\n"
    }
   }
  },
  {
   "cell_type": "code",
   "execution_count": 843,
   "outputs": [],
   "source": [
    "evaluation_data_candidates = None\n",
    "evaluation_data = None"
   ],
   "metadata": {
    "collapsed": false,
    "pycharm": {
     "name": "#%%\n"
    }
   }
  },
  {
   "cell_type": "code",
   "execution_count": 844,
   "outputs": [],
   "source": [
    "from datetime import datetime\n",
    "import pandas as pd\n",
    "from datetime import datetime, timedelta\n",
    "from dateutil.relativedelta import relativedelta\n",
    "one_year_ago = datetime.today() - relativedelta(years = 1)\n",
    "training_data_candidates = source_data[source_data.index < one_year_ago]\n",
    "evaluation_data_candidates = source_data[source_data.index >= one_year_ago]"
   ],
   "metadata": {
    "collapsed": false,
    "pycharm": {
     "name": "#%%\n"
    }
   }
  },
  {
   "cell_type": "code",
   "execution_count": 845,
   "outputs": [],
   "source": [
    "candidates = training_data_candidates[training_data_candidates.index.minute % 15 == 0]"
   ],
   "metadata": {
    "collapsed": false,
    "pycharm": {
     "name": "#%%\n"
    }
   }
  },
  {
   "cell_type": "code",
   "execution_count": 846,
   "outputs": [],
   "source": [
    "def _get_forward_period_for_percentage_return(trading_days_in_future: float) -> int:\n",
    "    \"\"\"\n",
    "    This method calculates the number of future periods in a dataframe that must be looked at, given a sub-sampled dataframe,\n",
    "    in order to calculate the percentage return after `trading_days_in_future` in the future with respect to any given record\n",
    "\n",
    "    :param trading_days_in_future (float): The number of trading days in the future that we need to predict for\n",
    "    :return (int): The number of time periods in the future to look at given a sub-sampled dataframe\n",
    "    \"\"\"\n",
    "\n",
    "    if trading_days_in_future >= 1.0:\n",
    "        return int(round(trading_days_in_future * RecordsPerDay, 0))\n",
    "\n",
    "    minutes_ahead = trading_days_in_future * MinutesInHour * HoursInTradingDay\n",
    "    return int(round(minutes_ahead / MinuteFrequencyToSubsample, 0))"
   ],
   "metadata": {
    "collapsed": false,
    "pycharm": {
     "name": "#%%\n"
    }
   }
  },
  {
   "cell_type": "code",
   "execution_count": 847,
   "outputs": [],
   "source": [
    "def _get_time_for_prediction_given_timerange_in_future(trading_days_in_future: float) -> str:\n",
    "    \"\"\"\n",
    "    This method calculates the time at which we are making a prediction given the parameter for trading days in the future\n",
    "\n",
    "    :param trading_days_in_future (float): The number of trading days in the future that we need to predict for\n",
    "    :return (str): The string representation of the time for which we are predicting\n",
    "    \"\"\"\n",
    "\n",
    "    if trading_days_in_future < 1.0:\n",
    "        number_of_minutes_until_close = round(trading_days_in_future * MinutesInHour * HoursInTradingDay, 1)\n",
    "        timestamp = datetime.now()\n",
    "        timestamp = timestamp.replace(hour = 16, minute = 00)\n",
    "        timestamp = timestamp - timedelta(minutes = number_of_minutes_until_close)\n",
    "        return datetime.strftime(timestamp, \"%H:%M\")\n",
    "\n",
    "    return \"09:30\""
   ],
   "metadata": {
    "collapsed": false,
    "pycharm": {
     "name": "#%%\n"
    }
   }
  },
  {
   "cell_type": "code",
   "execution_count": 848,
   "outputs": [],
   "source": [
    "def _create_dataset_with_future_percentage_return(candidates: pd.DataFrame, trading_days_in_future: float) -> pd.DataFrame:\n",
    "    \"\"\"\n",
    "    This method is responsible for taking a source list of candidates and creating a new dataset from them, one which contains the\n",
    "    percentage return of the stock given the timeframe in the future\n",
    "\n",
    "    :param candidates (obj:`pd.DataFrame`): A dataframe that contains a list of OHLC data\n",
    "    :param trading_days_in_future (float): The number of trading days in the future that we need to create labels for\n",
    "    :return (obj:`pd.DataFrame`): A dataframe that contains a datetime column, the stock price, the days in the future, and the percentage return\n",
    "    \"\"\"\n",
    "\n",
    "    time_at_prediction = _get_time_for_prediction_given_timerange_in_future(trading_days_in_future = trading_days_in_future)\n",
    "    forward_periods_for_percentage_return = _get_forward_period_for_percentage_return(trading_days_in_future = trading_days_in_future)\n",
    "    percentage_changes = candidates.pct_change(-forward_periods_for_percentage_return).between_time(time_at_prediction, time_at_prediction, inclusive = \"both\")\n",
    "    percentage_changes[NameOfColumnForTradingDaysInFuture] = trading_days_in_future\n",
    "    percentage_changes.rename(columns = {\"Close\": \"returns\"}, inplace = True)\n",
    "    return percentage_changes[[\"returns\", NameOfColumnForTradingDaysInFuture]]"
   ],
   "metadata": {
    "collapsed": false,
    "pycharm": {
     "name": "#%%\n"
    }
   }
  },
  {
   "cell_type": "code",
   "execution_count": 849,
   "outputs": [],
   "source": [
    "def _create_dataset_with_future_percentage_return(candidates: pd.DataFrame, trading_days_in_future: float) -> pd.DataFrame:\n",
    "    \"\"\"\n",
    "    This method is responsible for taking a source list of candidates and creating a new dataset from them, one which contains the\n",
    "    percentage return of the stock given the timeframe in the future\n",
    "\n",
    "    :param candidates (obj:`pd.DataFrame`): A dataframe that contains a list of OHLC data\n",
    "    :param trading_days_in_future (float): The number of trading days in the future that we need to create labels for\n",
    "    :return (obj:`pd.DataFrame`): A dataframe that contains a datetime column, the stock price, the days in the future, and the percentage return\n",
    "    \"\"\"\n",
    "\n",
    "    time_at_prediction = _get_time_for_prediction_given_timerange_in_future(trading_days_in_future = trading_days_in_future)\n",
    "    forward_periods_for_percentage_return = _get_forward_period_for_percentage_return(trading_days_in_future = trading_days_in_future)\n",
    "    percentage_changes = candidates.pct_change(-forward_periods_for_percentage_return).between_time(time_at_prediction, time_at_prediction, inclusive = \"both\")\n",
    "    percentage_changes[NameOfColumnForTradingDaysInFuture] = trading_days_in_future\n",
    "    percentage_changes.rename(columns = {\"Close\": LabelName}, inplace = True)\n",
    "    percentage_changes = percentage_changes[[LabelName, NameOfColumnForTradingDaysInFuture]]\n",
    "    percentage_changes.dropna(subset = [LabelName], inplace = True)\n",
    "    percentage_changes = percentage_changes.join(candidates, how = \"left\")\n",
    "    return percentage_changes[[\"Close\", NameOfColumnForTradingDaysInFuture, LabelName]]"
   ],
   "metadata": {
    "collapsed": false,
    "pycharm": {
     "name": "#%%\n"
    }
   }
  },
  {
   "cell_type": "code",
   "execution_count": 850,
   "outputs": [],
   "source": [
    "import numpy as np"
   ],
   "metadata": {
    "collapsed": false,
    "pycharm": {
     "name": "#%%\n"
    }
   }
  },
  {
   "cell_type": "code",
   "execution_count": 851,
   "outputs": [],
   "source": [
    "def _construct_dataset_with_labels_from_candidates(candidates: pd.DataFrame) -> pd.DataFrame:\n",
    "    \"\"\"\n",
    "    This method constructs a new dataset that uses the data from the candidates dataframe to act as the basis for creating training\n",
    "    instances. Multiple new instances, one for each future time period that we would like to predict for, are created based on each\n",
    "    record within the candidates dataframe.\n",
    "\n",
    "    :param candidates (obj:`pd.DataFrame`): A dataframe that contains OHLC data\n",
    "    :return (obj:`pd.DataFrame`): A dataframe in which each record represents a point in time and contains labels for the future return\n",
    "    of the stock price at a specific point in the future (respective to the time of the instance)\n",
    "    \"\"\"\n",
    "\n",
    "    dataset = None\n",
    "    for prediction_timeframe in TimeframesInTheFutureInTradingDays:\n",
    "        dataset_with_labels_for_future = _create_dataset_with_future_percentage_return(candidates = candidates, trading_days_in_future = prediction_timeframe)\n",
    "        if dataset is None:\n",
    "            dataset = dataset_with_labels_for_future\n",
    "        else:\n",
    "            dataset = pd.concat([dataset, dataset_with_labels_for_future])\n",
    "    dataset.replace([np.inf, -np.inf], np.nan)\n",
    "    dataset.dropna(subset = [LabelName])\n",
    "    return dataset"
   ],
   "metadata": {
    "collapsed": false,
    "pycharm": {
     "name": "#%%\n"
    }
   }
  },
  {
   "cell_type": "code",
   "execution_count": 852,
   "outputs": [],
   "source": [
    "def _add_features_to_base_instances_and_return_data(base_instances: pd.DataFrame, source_data: pd.DataFrame) -> pd.DataFrame:\n",
    "    \"\"\"\n",
    "    This method adds in all of the features that will be used for prediction into the provided dataset\n",
    "\n",
    "    :param base_instances (obj:`pd.DataFrame`): A dataframe that contains labels and a column for how far in the future that is being predicted\n",
    "    :param source_data (obj:`pd.DataFrame`): A dataframe that contains all the original data, useful for matching an instance to its closest closing value\n",
    "    :return (obj:`pd.DataFrame`): A dataframe that contains all features and labels\n",
    "    \"\"\"\n",
    "\n",
    "    \"\"\"\n",
    "    This method adds in all of the features that will be used for prediction into the provided dataset\n",
    "\n",
    "    :param base_instances (obj:`pd.DataFrame`): A dataframe that contains labels and a column for how far in the future that is being predicted\n",
    "    :param source_data (obj:`pd.DataFrame`): A dataframe that contains all the original data, useful for matching an instance to its closest closing value\n",
    "    :return (obj:`pd.DataFrame`): A dataframe that contains all features and labels\n",
    "    \"\"\"\n",
    "\n",
    "    def minutes_since_open(row) -> int:\n",
    "        start_of_day = row.name # Here, the \"name\" column is actually the index, wich is the datetime of the record\n",
    "        start_of_day = start_of_day.replace(hour = 9, minute = 30)\n",
    "        difference = (row.name - start_of_day).total_seconds() / 60 # 60 seconds per minute\n",
    "        return difference\n",
    "\n",
    "    def get_return_since_time(time: str, base_instances: pd.DataFrame, name_of_new_column: str = \"Returns\") -> pd.DataFrame:\n",
    "        prices_at_target_time = source_data.between_time(time, time, inclusive = \"both\")\n",
    "        prices_at_target_time.sort_index(inplace = True)\n",
    "        prices_at_target_time = pd.merge_asof(base_instances, prices_at_target_time, left_index = True, right_index = True)\n",
    "        prices_at_target_time[name_of_new_column] = prices_at_target_time[CloseColumnName + \"_x\"] / prices_at_target_time[CloseColumnName + \"_y\"] - 1.0\n",
    "        returns_since_target_time = prices_at_target_time[[name_of_new_column]]\n",
    "        return returns_since_target_time\n",
    "\n",
    "    def get_new_dataset_with_returns_for_specified_time(dataset: pd.DataFrame, new_column_name: str, periods: int, start_time_reset: str, end_time_reset: str) -> pd.DataFrame:\n",
    "        dataset[new_column_name] = source_data.pct_change(periods)[CloseColumnName]\n",
    "        index = dataset.between_time(start_time_reset, end_time_reset, inclusive = \"left\").index\n",
    "        dataset.loc[index, new_column_name] = 0\n",
    "        return dataset\n",
    "\n",
    "    base_instances.sort_index(inplace = True)\n",
    "    dataset = base_instances.sort_index()\n",
    "    dataset[Month] = dataset.index.month\n",
    "    dataset[Day] = dataset.index.day\n",
    "    dataset[DayName] = dataset.index.day_name()\n",
    "    dataset[Year] = dataset.index.year\n",
    "    dataset[Quarter] = dataset.index.quarter\n",
    "    dataset[MinutesSinceOpen] = dataset.apply(minutes_since_open, axis = 1)\n",
    "    dataset[IsSameDayClose] = dataset[NameOfColumnForTradingDaysInFuture] <= 1.0\n",
    "\n",
    "    returns_since_last_close = get_return_since_time(\"16:00\", base_instances, ReturnSinceLastClose)\n",
    "    dataset = dataset.join(returns_since_last_close, how = \"left\")\n",
    "    dataset.drop_duplicates(inplace = True)\n",
    "\n",
    "    returns_since_open = get_return_since_time(\"09:30\", base_instances, ReturnSinceOpen)\n",
    "    dataset = dataset.join(returns_since_open, how = \"left\")\n",
    "    dataset.drop_duplicates(inplace = True)\n",
    "\n",
    "    dataset = get_new_dataset_with_returns_for_specified_time(dataset = dataset, new_column_name = ReturnInLast10Minutes, periods = 10, start_time_reset = \"9:30\", end_time_reset = \"9:40\")\n",
    "\n",
    "    return dataset"
   ],
   "metadata": {
    "collapsed": false,
    "pycharm": {
     "name": "#%%\n"
    }
   }
  },
  {
   "cell_type": "code",
   "execution_count": 853,
   "outputs": [],
   "source": [
    "training_data_candidates = training_data_candidates[training_data_candidates.index.minute % MinuteFrequencyToSubsample == 0]"
   ],
   "metadata": {
    "collapsed": false,
    "pycharm": {
     "name": "#%%\n"
    }
   }
  },
  {
   "cell_type": "code",
   "execution_count": 854,
   "outputs": [],
   "source": [
    "training_data_candidates = _construct_dataset_with_labels_from_candidates(candidates = training_data_candidates)"
   ],
   "metadata": {
    "collapsed": false,
    "pycharm": {
     "name": "#%%\n"
    }
   }
  },
  {
   "cell_type": "code",
   "execution_count": 855,
   "outputs": [],
   "source": [
    "training_data = _add_features_to_base_instances_and_return_data(base_instances = training_data_candidates, source_data = source_data)"
   ],
   "metadata": {
    "collapsed": false,
    "pycharm": {
     "name": "#%%\n"
    }
   }
  },
  {
   "cell_type": "code",
   "execution_count": 856,
   "outputs": [
    {
     "data": {
      "text/plain": "                       Close  Trading days in future   returns  Month  Day  \\\nDatetime                                                                     \n2007-04-30 09:30:00  1494.89                1.000000  0.007243      4   30   \n2007-04-30 09:30:00  1494.89                2.000000  0.005468      4   30   \n2007-04-30 09:30:00  1494.89                3.000000 -0.001429      4   30   \n2007-04-30 09:30:00  1494.89                4.000000 -0.006751      4   30   \n2007-04-30 09:30:00  1494.89                5.000000 -0.007614      4   30   \n...                      ...                     ...       ...    ...  ...   \n2022-03-04 12:00:00  4295.05                0.615385 -0.007813      3    4   \n2022-03-04 13:00:00  4330.45                0.461538  0.000365      3    4   \n2022-03-04 14:00:00  4311.30                0.307692 -0.004059      3    4   \n2022-03-04 15:00:00  4300.54                0.153846 -0.006544      3    4   \n2022-03-04 15:30:00  4313.10                0.076923 -0.003643      3    4   \n\n                    Day name  Year  Quarter  Minutes since open  \\\nDatetime                                                          \n2007-04-30 09:30:00   Monday  2007        2                 0.0   \n2007-04-30 09:30:00   Monday  2007        2                 0.0   \n2007-04-30 09:30:00   Monday  2007        2                 0.0   \n2007-04-30 09:30:00   Monday  2007        2                 0.0   \n2007-04-30 09:30:00   Monday  2007        2                 0.0   \n...                      ...   ...      ...                 ...   \n2022-03-04 12:00:00   Friday  2022        1               150.0   \n2022-03-04 13:00:00   Friday  2022        1               210.0   \n2022-03-04 14:00:00   Friday  2022        1               270.0   \n2022-03-04 15:00:00   Friday  2022        1               330.0   \n2022-03-04 15:30:00   Friday  2022        1               360.0   \n\n                     Is same day close  Return since last close  \\\nDatetime                                                          \n2007-04-30 09:30:00               True                      NaN   \n2007-04-30 09:30:00              False                      NaN   \n2007-04-30 09:30:00              False                      NaN   \n2007-04-30 09:30:00              False                      NaN   \n2007-04-30 09:30:00              False                      NaN   \n...                                ...                      ...   \n2022-03-04 12:00:00               True                -0.015696   \n2022-03-04 13:00:00               True                -0.007583   \n2022-03-04 14:00:00               True                -0.011972   \n2022-03-04 15:00:00               True                -0.014438   \n2022-03-04 15:30:00               True                -0.011559   \n\n                     Return since open  Return in last 10 minutes  \nDatetime                                                           \n2007-04-30 09:30:00           0.000000                   0.000000  \n2007-04-30 09:30:00           0.000000                   0.000000  \n2007-04-30 09:30:00           0.000000                   0.000000  \n2007-04-30 09:30:00           0.000000                   0.000000  \n2007-04-30 09:30:00           0.000000                   0.000000  \n...                                ...                        ...  \n2022-03-04 12:00:00          -0.007806                  -0.001764  \n2022-03-04 13:00:00           0.000372                   0.003339  \n2022-03-04 14:00:00          -0.004052                  -0.001603  \n2022-03-04 15:00:00          -0.006538                  -0.001989  \n2022-03-04 15:30:00          -0.003636                   0.002226  \n\n[44761 rows x 13 columns]",
      "text/html": "<div>\n<style scoped>\n    .dataframe tbody tr th:only-of-type {\n        vertical-align: middle;\n    }\n\n    .dataframe tbody tr th {\n        vertical-align: top;\n    }\n\n    .dataframe thead th {\n        text-align: right;\n    }\n</style>\n<table border=\"1\" class=\"dataframe\">\n  <thead>\n    <tr style=\"text-align: right;\">\n      <th></th>\n      <th>Close</th>\n      <th>Trading days in future</th>\n      <th>returns</th>\n      <th>Month</th>\n      <th>Day</th>\n      <th>Day name</th>\n      <th>Year</th>\n      <th>Quarter</th>\n      <th>Minutes since open</th>\n      <th>Is same day close</th>\n      <th>Return since last close</th>\n      <th>Return since open</th>\n      <th>Return in last 10 minutes</th>\n    </tr>\n    <tr>\n      <th>Datetime</th>\n      <th></th>\n      <th></th>\n      <th></th>\n      <th></th>\n      <th></th>\n      <th></th>\n      <th></th>\n      <th></th>\n      <th></th>\n      <th></th>\n      <th></th>\n      <th></th>\n      <th></th>\n    </tr>\n  </thead>\n  <tbody>\n    <tr>\n      <th>2007-04-30 09:30:00</th>\n      <td>1494.89</td>\n      <td>1.000000</td>\n      <td>0.007243</td>\n      <td>4</td>\n      <td>30</td>\n      <td>Monday</td>\n      <td>2007</td>\n      <td>2</td>\n      <td>0.0</td>\n      <td>True</td>\n      <td>NaN</td>\n      <td>0.000000</td>\n      <td>0.000000</td>\n    </tr>\n    <tr>\n      <th>2007-04-30 09:30:00</th>\n      <td>1494.89</td>\n      <td>2.000000</td>\n      <td>0.005468</td>\n      <td>4</td>\n      <td>30</td>\n      <td>Monday</td>\n      <td>2007</td>\n      <td>2</td>\n      <td>0.0</td>\n      <td>False</td>\n      <td>NaN</td>\n      <td>0.000000</td>\n      <td>0.000000</td>\n    </tr>\n    <tr>\n      <th>2007-04-30 09:30:00</th>\n      <td>1494.89</td>\n      <td>3.000000</td>\n      <td>-0.001429</td>\n      <td>4</td>\n      <td>30</td>\n      <td>Monday</td>\n      <td>2007</td>\n      <td>2</td>\n      <td>0.0</td>\n      <td>False</td>\n      <td>NaN</td>\n      <td>0.000000</td>\n      <td>0.000000</td>\n    </tr>\n    <tr>\n      <th>2007-04-30 09:30:00</th>\n      <td>1494.89</td>\n      <td>4.000000</td>\n      <td>-0.006751</td>\n      <td>4</td>\n      <td>30</td>\n      <td>Monday</td>\n      <td>2007</td>\n      <td>2</td>\n      <td>0.0</td>\n      <td>False</td>\n      <td>NaN</td>\n      <td>0.000000</td>\n      <td>0.000000</td>\n    </tr>\n    <tr>\n      <th>2007-04-30 09:30:00</th>\n      <td>1494.89</td>\n      <td>5.000000</td>\n      <td>-0.007614</td>\n      <td>4</td>\n      <td>30</td>\n      <td>Monday</td>\n      <td>2007</td>\n      <td>2</td>\n      <td>0.0</td>\n      <td>False</td>\n      <td>NaN</td>\n      <td>0.000000</td>\n      <td>0.000000</td>\n    </tr>\n    <tr>\n      <th>...</th>\n      <td>...</td>\n      <td>...</td>\n      <td>...</td>\n      <td>...</td>\n      <td>...</td>\n      <td>...</td>\n      <td>...</td>\n      <td>...</td>\n      <td>...</td>\n      <td>...</td>\n      <td>...</td>\n      <td>...</td>\n      <td>...</td>\n    </tr>\n    <tr>\n      <th>2022-03-04 12:00:00</th>\n      <td>4295.05</td>\n      <td>0.615385</td>\n      <td>-0.007813</td>\n      <td>3</td>\n      <td>4</td>\n      <td>Friday</td>\n      <td>2022</td>\n      <td>1</td>\n      <td>150.0</td>\n      <td>True</td>\n      <td>-0.015696</td>\n      <td>-0.007806</td>\n      <td>-0.001764</td>\n    </tr>\n    <tr>\n      <th>2022-03-04 13:00:00</th>\n      <td>4330.45</td>\n      <td>0.461538</td>\n      <td>0.000365</td>\n      <td>3</td>\n      <td>4</td>\n      <td>Friday</td>\n      <td>2022</td>\n      <td>1</td>\n      <td>210.0</td>\n      <td>True</td>\n      <td>-0.007583</td>\n      <td>0.000372</td>\n      <td>0.003339</td>\n    </tr>\n    <tr>\n      <th>2022-03-04 14:00:00</th>\n      <td>4311.30</td>\n      <td>0.307692</td>\n      <td>-0.004059</td>\n      <td>3</td>\n      <td>4</td>\n      <td>Friday</td>\n      <td>2022</td>\n      <td>1</td>\n      <td>270.0</td>\n      <td>True</td>\n      <td>-0.011972</td>\n      <td>-0.004052</td>\n      <td>-0.001603</td>\n    </tr>\n    <tr>\n      <th>2022-03-04 15:00:00</th>\n      <td>4300.54</td>\n      <td>0.153846</td>\n      <td>-0.006544</td>\n      <td>3</td>\n      <td>4</td>\n      <td>Friday</td>\n      <td>2022</td>\n      <td>1</td>\n      <td>330.0</td>\n      <td>True</td>\n      <td>-0.014438</td>\n      <td>-0.006538</td>\n      <td>-0.001989</td>\n    </tr>\n    <tr>\n      <th>2022-03-04 15:30:00</th>\n      <td>4313.10</td>\n      <td>0.076923</td>\n      <td>-0.003643</td>\n      <td>3</td>\n      <td>4</td>\n      <td>Friday</td>\n      <td>2022</td>\n      <td>1</td>\n      <td>360.0</td>\n      <td>True</td>\n      <td>-0.011559</td>\n      <td>-0.003636</td>\n      <td>0.002226</td>\n    </tr>\n  </tbody>\n</table>\n<p>44761 rows × 13 columns</p>\n</div>"
     },
     "execution_count": 856,
     "metadata": {},
     "output_type": "execute_result"
    }
   ],
   "source": [
    "training_data"
   ],
   "metadata": {
    "collapsed": false,
    "pycharm": {
     "name": "#%%\n"
    }
   }
  },
  {
   "cell_type": "code",
   "execution_count": 856,
   "outputs": [],
   "source": [],
   "metadata": {
    "collapsed": false,
    "pycharm": {
     "name": "#%%\n"
    }
   }
  }
 ],
 "metadata": {
  "kernelspec": {
   "display_name": "Python 3 (ipykernel)",
   "language": "python",
   "name": "python3"
  },
  "language_info": {
   "codemirror_mode": {
    "name": "ipython",
    "version": 3
   },
   "file_extension": ".py",
   "mimetype": "text/x-python",
   "name": "python",
   "nbconvert_exporter": "python",
   "pygments_lexer": "ipython3",
   "version": "3.8.3"
  }
 },
 "nbformat": 4,
 "nbformat_minor": 1
}