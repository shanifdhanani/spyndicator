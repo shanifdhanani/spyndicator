{
 "cells": [
  {
   "cell_type": "markdown",
   "metadata": {
    "pycharm": {
     "name": "#%% md\n"
    }
   },
   "source": [
    "In this notebook, we'll start to construct our dataset and explore a few modeling options so that later, we can create an optimized version of our code for production\n",
    "\n",
    "# Dataset and feature construction\n",
    "\n",
    "## Step 1: Get the high-level structure of our dataset in place"
   ]
  },
  {
   "cell_type": "code",
   "execution_count": 18,
   "outputs": [],
   "source": [
    "MinuteFrequencyToSubsample = 15\n",
    "HoursInTradingDay = 6.5\n",
    "MinutesInHour = 60\n",
    "RecordsPerDay = (MinutesInHour * HoursInTradingDay / MinuteFrequencyToSubsample) + 1"
   ],
   "metadata": {
    "collapsed": false,
    "pycharm": {
     "name": "#%%\n"
    }
   }
  },
  {
   "cell_type": "code",
   "execution_count": 11,
   "outputs": [],
   "source": [
    "import os\n",
    "from price_modeling.src.main.code.file_based_historical_data_fetcher import FileBasedHistoricalDataFetcher\n",
    "file_path = os.path.expanduser('~/Documents/projects/spyndicator-data/SPX_1min.txt')\n",
    "data_fetcher = FileBasedHistoricalDataFetcher(file_path = file_path)"
   ],
   "metadata": {
    "collapsed": false,
    "pycharm": {
     "name": "#%%\n"
    }
   }
  },
  {
   "cell_type": "code",
   "execution_count": 4,
   "outputs": [],
   "source": [
    "source_data = data_fetcher.get_historical_data()"
   ],
   "metadata": {
    "collapsed": false,
    "pycharm": {
     "name": "#%%\n"
    }
   }
  },
  {
   "cell_type": "code",
   "execution_count": 17,
   "outputs": [],
   "source": [
    "evaluation_data_candidates = None\n",
    "evaluation_data = None"
   ],
   "metadata": {
    "collapsed": false,
    "pycharm": {
     "name": "#%%\n"
    }
   }
  },
  {
   "cell_type": "code",
   "execution_count": 6,
   "outputs": [],
   "source": [
    "from datetime import datetime\n",
    "import pandas as pd\n",
    "from dateutil.relativedelta import relativedelta\n",
    "one_year_ago = datetime.today() - relativedelta(years = 1)\n",
    "training_data_candidates = source_data[source_data.index < one_year_ago]\n",
    "evaluation_data_candidates = source_data[source_data.index >= one_year_ago]"
   ],
   "metadata": {
    "collapsed": false,
    "pycharm": {
     "name": "#%%\n"
    }
   }
  },
  {
   "cell_type": "code",
   "execution_count": 9,
   "outputs": [],
   "source": [
    "training_data_candidates = training_data_candidates[training_data_candidates.index.minute % 15 == 0]"
   ],
   "metadata": {
    "collapsed": false,
    "pycharm": {
     "name": "#%%\n"
    }
   }
  },
  {
   "cell_type": "code",
   "execution_count": 19,
   "outputs": [],
   "source": [
    "def _get_time_for_prediction_given_timerange_in_future(trading_days_in_future: float) -> str:\n",
    "    \"\"\"\n",
    "    This method calculates the time at which we are making a prediction given the parameter for trading days in the future\n",
    "\n",
    "    :param trading_days_in_future (float): The number of trading days in the future that we need to predict for\n",
    "    :return (str): The string representation of the time for which we are predicting\n",
    "    \"\"\"\n",
    "\n",
    "    if trading_days_in_future < 1.0:\n",
    "        number_of_minutes_after_open = trading_days_in_future * MinutesInHour * HoursInTradingDay\n",
    "        hours_to_add = int(number_of_minutes_after_open / MinutesInHour)\n",
    "        minutes_to_add = number_of_minutes_after_open - (hours_to_add * MinutesInHour)\n",
    "        hours = 9 + hours_to_add\n",
    "        minutes = minutes_to_add\n",
    "        times_for_training_data_to_keep = str(hours) + \":\" + str(minutes)\n",
    "        return times_for_training_data_to_keep\n",
    "\n",
    "    return \"09:30\""
   ],
   "metadata": {
    "collapsed": false,
    "pycharm": {
     "name": "#%%\n"
    }
   }
  },
  {
   "cell_type": "code",
   "execution_count": 20,
   "outputs": [],
   "source": [
    "def _get_forward_period_for_percentage_return(trading_days_in_future: float) -> int:\n",
    "    \"\"\"\n",
    "    This method calculates the number of future periods in a dataframe that must be looked at, given a sub-sampled dataframe,\n",
    "    in order to calculate the percentage return after `trading_days_in_future` in the future with respect to any given record\n",
    "\n",
    "    :param trading_days_in_future (float): The number of trading days in the future that we need to predict for\n",
    "    :return (int): The number of time periods in the future to look at given a sub-sampled dataframe\n",
    "    \"\"\"\n",
    "\n",
    "    if trading_days_in_future >= 1.0:\n",
    "        return trading_days_in_future * RecordsPerDay\n",
    "\n",
    "    minutes_ahead = trading_days_in_future * MinutesInHour * HoursInTradingDay\n",
    "    return minutes_ahead / MinuteFrequencyToSubsample"
   ],
   "metadata": {
    "collapsed": false,
    "pycharm": {
     "name": "#%%\n"
    }
   }
  },
  {
   "cell_type": "code",
   "execution_count": 23,
   "outputs": [],
   "source": [
    "time_at_prediction = _get_time_for_prediction_given_timerange_in_future(trading_days_in_future = 0.5/6.5)"
   ],
   "metadata": {
    "collapsed": false,
    "pycharm": {
     "name": "#%%\n"
    }
   }
  },
  {
   "cell_type": "code",
   "execution_count": 24,
   "outputs": [
    {
     "data": {
      "text/plain": "'9:30.000000000000004'"
     },
     "execution_count": 24,
     "metadata": {},
     "output_type": "execute_result"
    }
   ],
   "source": [
    "time_at_prediction"
   ],
   "metadata": {
    "collapsed": false,
    "pycharm": {
     "name": "#%%\n"
    }
   }
  },
  {
   "cell_type": "code",
   "execution_count": null,
   "outputs": [],
   "source": [],
   "metadata": {
    "collapsed": false,
    "pycharm": {
     "name": "#%%\n"
    }
   }
  }
 ],
 "metadata": {
  "kernelspec": {
   "display_name": "Python 3 (ipykernel)",
   "language": "python",
   "name": "python3"
  },
  "language_info": {
   "codemirror_mode": {
    "name": "ipython",
    "version": 3
   },
   "file_extension": ".py",
   "mimetype": "text/x-python",
   "name": "python",
   "nbconvert_exporter": "python",
   "pygments_lexer": "ipython3",
   "version": "3.8.3"
  }
 },
 "nbformat": 4,
 "nbformat_minor": 1
}