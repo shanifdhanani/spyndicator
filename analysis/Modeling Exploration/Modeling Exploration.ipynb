{
 "cells": [
  {
   "cell_type": "markdown",
   "metadata": {
    "pycharm": {
     "name": "#%% md\n"
    }
   },
   "source": [
    "In this notebook, we'll start to construct our dataset and explore a few modeling options so that later, we can create an optimized version of our code for production\n",
    "\n",
    "# Dataset and feature construction\n",
    "\n",
    "## Step 1: Get the high-level structure of our dataset in place"
   ]
  },
  {
   "cell_type": "code",
   "execution_count": 91,
   "outputs": [],
   "source": [
    "MinuteFrequencyToSubsample = 15\n",
    "HoursInTradingDay = 6.5\n",
    "MinutesInHour = 60\n",
    "RecordsPerDay = (MinutesInHour * HoursInTradingDay / MinuteFrequencyToSubsample) + 1\n",
    "NameOfColumnForTradingDaysInFuture = \"Trading days in future\"\n",
    "LabelName = \"returns\"\n",
    "\n",
    "\n",
    "TimeframesInTheFutureInTradingDays = [\n",
    "    0.5 / HoursInTradingDay, # 3:30 PM\n",
    "    1.0 / HoursInTradingDay, # 3:00 PM\n",
    "    2.0 / HoursInTradingDay, # 2:00 PM\n",
    "    3.0 / HoursInTradingDay, # 1:00 PM\n",
    "    4.0 / HoursInTradingDay, # 12:00 PM\n",
    "    5.0 / HoursInTradingDay, # 11:00 AM\n",
    "    6.0 / HoursInTradingDay, # 10:00 AM\n",
    "    1.0, # 9:30 AM\n",
    "    2.0,\n",
    "    3.0,\n",
    "    4.0,\n",
    "    5.0\n",
    "]"
   ],
   "metadata": {
    "collapsed": false,
    "pycharm": {
     "name": "#%%\n"
    }
   }
  },
  {
   "cell_type": "code",
   "execution_count": 92,
   "outputs": [],
   "source": [
    "import os\n",
    "from price_modeling.src.main.code.file_based_historical_data_fetcher import FileBasedHistoricalDataFetcher\n",
    "file_path = os.path.expanduser('~/Documents/projects/spyndicator-data/SPX_1min.txt')\n",
    "data_fetcher = FileBasedHistoricalDataFetcher(file_path = file_path)"
   ],
   "metadata": {
    "collapsed": false,
    "pycharm": {
     "name": "#%%\n"
    }
   }
  },
  {
   "cell_type": "code",
   "execution_count": 93,
   "outputs": [],
   "source": [
    "source_data = data_fetcher.get_historical_data()"
   ],
   "metadata": {
    "collapsed": false,
    "pycharm": {
     "name": "#%%\n"
    }
   }
  },
  {
   "cell_type": "code",
   "execution_count": 94,
   "outputs": [],
   "source": [
    "evaluation_data_candidates = None\n",
    "evaluation_data = None"
   ],
   "metadata": {
    "collapsed": false,
    "pycharm": {
     "name": "#%%\n"
    }
   }
  },
  {
   "cell_type": "code",
   "execution_count": 95,
   "outputs": [],
   "source": [
    "from datetime import datetime\n",
    "import pandas as pd\n",
    "from datetime import datetime, timedelta\n",
    "from dateutil.relativedelta import relativedelta\n",
    "one_year_ago = datetime.today() - relativedelta(years = 1)\n",
    "training_data_candidates = source_data[source_data.index < one_year_ago]\n",
    "evaluation_data_candidates = source_data[source_data.index >= one_year_ago]"
   ],
   "metadata": {
    "collapsed": false,
    "pycharm": {
     "name": "#%%\n"
    }
   }
  },
  {
   "cell_type": "code",
   "execution_count": 96,
   "outputs": [],
   "source": [
    "candidates = training_data_candidates[training_data_candidates.index.minute % 15 == 0]"
   ],
   "metadata": {
    "collapsed": false,
    "pycharm": {
     "name": "#%%\n"
    }
   }
  },
  {
   "cell_type": "code",
   "execution_count": 97,
   "outputs": [],
   "source": [
    "def _get_forward_period_for_percentage_return(trading_days_in_future: float) -> int:\n",
    "    \"\"\"\n",
    "    This method calculates the number of future periods in a dataframe that must be looked at, given a sub-sampled dataframe,\n",
    "    in order to calculate the percentage return after `trading_days_in_future` in the future with respect to any given record\n",
    "\n",
    "    :param trading_days_in_future (float): The number of trading days in the future that we need to predict for\n",
    "    :return (int): The number of time periods in the future to look at given a sub-sampled dataframe\n",
    "    \"\"\"\n",
    "\n",
    "    if trading_days_in_future >= 1.0:\n",
    "        return int(round(trading_days_in_future * RecordsPerDay, 0))\n",
    "\n",
    "    minutes_ahead = trading_days_in_future * MinutesInHour * HoursInTradingDay\n",
    "    return int(round(minutes_ahead / MinuteFrequencyToSubsample, 0))"
   ],
   "metadata": {
    "collapsed": false,
    "pycharm": {
     "name": "#%%\n"
    }
   }
  },
  {
   "cell_type": "code",
   "execution_count": 98,
   "outputs": [],
   "source": [
    "def _get_time_for_prediction_given_timerange_in_future(trading_days_in_future: float) -> str:\n",
    "    \"\"\"\n",
    "    This method calculates the time at which we are making a prediction given the parameter for trading days in the future\n",
    "\n",
    "    :param trading_days_in_future (float): The number of trading days in the future that we need to predict for\n",
    "    :return (str): The string representation of the time for which we are predicting\n",
    "    \"\"\"\n",
    "\n",
    "    if trading_days_in_future < 1.0:\n",
    "        number_of_minutes_until_close = round(trading_days_in_future * MinutesInHour * HoursInTradingDay, 1)\n",
    "        timestamp = datetime.now()\n",
    "        timestamp = timestamp.replace(hour = 16, minute = 00)\n",
    "        timestamp = timestamp - timedelta(minutes = number_of_minutes_until_close)\n",
    "        return datetime.strftime(timestamp, \"%H:%M\")\n",
    "\n",
    "    return \"09:30\""
   ],
   "metadata": {
    "collapsed": false,
    "pycharm": {
     "name": "#%%\n"
    }
   }
  },
  {
   "cell_type": "code",
   "execution_count": 99,
   "outputs": [],
   "source": [
    "def _create_dataset_with_future_percentage_return(candidates: pd.DataFrame, trading_days_in_future: float) -> pd.DataFrame:\n",
    "    \"\"\"\n",
    "    This method is responsible for taking a source list of candidates and creating a new dataset from them, one which contains the\n",
    "    percentage return of the stock given the timeframe in the future\n",
    "\n",
    "    :param candidates (obj:`pd.DataFrame`): A dataframe that contains a list of OHLC data\n",
    "    :param trading_days_in_future (float): The number of trading days in the future that we need to create labels for\n",
    "    :return (obj:`pd.DataFrame`): A dataframe that contains a datetime column, the stock price, the days in the future, and the percentage return\n",
    "    \"\"\"\n",
    "\n",
    "    time_at_prediction = _get_time_for_prediction_given_timerange_in_future(trading_days_in_future = trading_days_in_future)\n",
    "    forward_periods_for_percentage_return = _get_forward_period_for_percentage_return(trading_days_in_future = trading_days_in_future)\n",
    "    percentage_changes = candidates.pct_change(-forward_periods_for_percentage_return).between_time(time_at_prediction, time_at_prediction, inclusive = \"both\")\n",
    "    percentage_changes[NameOfColumnForTradingDaysInFuture] = trading_days_in_future\n",
    "    percentage_changes.rename(columns = {\"Close\": \"returns\"}, inplace = True)\n",
    "    return percentage_changes[[\"returns\", NameOfColumnForTradingDaysInFuture]]"
   ],
   "metadata": {
    "collapsed": false,
    "pycharm": {
     "name": "#%%\n"
    }
   }
  },
  {
   "cell_type": "code",
   "execution_count": 100,
   "outputs": [],
   "source": [
    "def _create_dataset_with_future_percentage_return(candidates: pd.DataFrame, trading_days_in_future: float) -> pd.DataFrame:\n",
    "    \"\"\"\n",
    "    This method is responsible for taking a source list of candidates and creating a new dataset from them, one which contains the\n",
    "    percentage return of the stock given the timeframe in the future\n",
    "\n",
    "    :param candidates (obj:`pd.DataFrame`): A dataframe that contains a list of OHLC data\n",
    "    :param trading_days_in_future (float): The number of trading days in the future that we need to create labels for\n",
    "    :return (obj:`pd.DataFrame`): A dataframe that contains a datetime column, the stock price, the days in the future, and the percentage return\n",
    "    \"\"\"\n",
    "\n",
    "    time_at_prediction = _get_time_for_prediction_given_timerange_in_future(trading_days_in_future = trading_days_in_future)\n",
    "    forward_periods_for_percentage_return = _get_forward_period_for_percentage_return(trading_days_in_future = trading_days_in_future)\n",
    "    percentage_changes = candidates.pct_change(-forward_periods_for_percentage_return).between_time(time_at_prediction, time_at_prediction, inclusive = \"both\")\n",
    "    percentage_changes[NameOfColumnForTradingDaysInFuture] = trading_days_in_future\n",
    "    percentage_changes.rename(columns = {\"Close\": LabelName}, inplace = True)\n",
    "    percentage_changes = percentage_changes[[LabelName, NameOfColumnForTradingDaysInFuture]]\n",
    "    percentage_changes.dropna(subset = [LabelName])\n",
    "    return percentage_changes"
   ],
   "metadata": {
    "collapsed": false,
    "pycharm": {
     "name": "#%%\n"
    }
   }
  },
  {
   "cell_type": "code",
   "execution_count": 101,
   "outputs": [],
   "source": [
    "import numpy as np"
   ],
   "metadata": {
    "collapsed": false,
    "pycharm": {
     "name": "#%%\n"
    }
   }
  },
  {
   "cell_type": "code",
   "execution_count": 102,
   "outputs": [],
   "source": [
    "def _construct_dataset_with_labels_from_candidates(candidates: pd.DataFrame) -> pd.DataFrame:\n",
    "    \"\"\"\n",
    "    This method constructs a new dataset that uses the data from the candidates dataframe to act as the basis for creating training\n",
    "    instances. Multiple new instances, one for each future time period that we would like to predict for, are created based on each\n",
    "    record within the candidates dataframe.\n",
    "\n",
    "    :param candidates (obj:`pd.DataFrame`): A dataframe that contains OHLC data\n",
    "    :return (obj:`pd.DataFrame`): A dataframe in which each record represents a point in time and contains labels for the future return\n",
    "    of the stock price at a specific point in the future (respective to the time of the instance)\n",
    "    \"\"\"\n",
    "\n",
    "    dataset = None\n",
    "    for prediction_timeframe in TimeframesInTheFutureInTradingDays:\n",
    "        dataset_with_labels_for_future = _create_dataset_with_future_percentage_return(candidates = candidates, trading_days_in_future = prediction_timeframe)\n",
    "        if dataset is None:\n",
    "            dataset = dataset_with_labels_for_future\n",
    "        else:\n",
    "            dataset = pd.concat([dataset, dataset_with_labels_for_future])\n",
    "    dataset.replace([np.inf, -np.inf], np.nan)\n",
    "    dataset.dropna(subset = [LabelName], inplace = True)\n",
    "    return dataset"
   ],
   "metadata": {
    "collapsed": false,
    "pycharm": {
     "name": "#%%\n"
    }
   }
  },
  {
   "cell_type": "code",
   "execution_count": 103,
   "outputs": [],
   "source": [
    "# Here we subsample by minute to reduce the dataset size and all of the duplicative data that tends to exist from one minute to the next\n",
    "training_data_candidates = training_data_candidates[training_data_candidates.index.minute % MinuteFrequencyToSubsample == 0]\n",
    "training_data_candidates = _construct_dataset_with_labels_from_candidates(candidates = training_data_candidates)\n",
    "# training_data = _add_features_to_base_instances_and_return_data(base_instances = training_data_candidates)"
   ],
   "metadata": {
    "collapsed": false,
    "pycharm": {
     "name": "#%%\n"
    }
   }
  },
  {
   "cell_type": "code",
   "execution_count": 104,
   "outputs": [
    {
     "data": {
      "text/plain": "                      returns  Trading days in future\nDatetime                                             \n2007-04-30 15:30:00  0.003798                0.076923\n2007-05-01 15:30:00 -0.001440                0.076923\n2007-05-02 15:30:00  0.000628                0.076923\n2007-05-03 15:30:00  0.000479                0.076923\n2007-05-04 15:30:00  0.000306                0.076923\n...                       ...                     ...\n2022-02-17 09:30:00  0.033967                5.000000\n2022-02-18 09:30:00  0.010634                5.000000\n2022-02-22 09:30:00 -0.008057                5.000000\n2022-02-23 09:30:00  0.000870                5.000000\n2022-02-24 09:30:00 -0.066574                5.000000\n\n[44749 rows x 2 columns]",
      "text/html": "<div>\n<style scoped>\n    .dataframe tbody tr th:only-of-type {\n        vertical-align: middle;\n    }\n\n    .dataframe tbody tr th {\n        vertical-align: top;\n    }\n\n    .dataframe thead th {\n        text-align: right;\n    }\n</style>\n<table border=\"1\" class=\"dataframe\">\n  <thead>\n    <tr style=\"text-align: right;\">\n      <th></th>\n      <th>returns</th>\n      <th>Trading days in future</th>\n    </tr>\n    <tr>\n      <th>Datetime</th>\n      <th></th>\n      <th></th>\n    </tr>\n  </thead>\n  <tbody>\n    <tr>\n      <th>2007-04-30 15:30:00</th>\n      <td>0.003798</td>\n      <td>0.076923</td>\n    </tr>\n    <tr>\n      <th>2007-05-01 15:30:00</th>\n      <td>-0.001440</td>\n      <td>0.076923</td>\n    </tr>\n    <tr>\n      <th>2007-05-02 15:30:00</th>\n      <td>0.000628</td>\n      <td>0.076923</td>\n    </tr>\n    <tr>\n      <th>2007-05-03 15:30:00</th>\n      <td>0.000479</td>\n      <td>0.076923</td>\n    </tr>\n    <tr>\n      <th>2007-05-04 15:30:00</th>\n      <td>0.000306</td>\n      <td>0.076923</td>\n    </tr>\n    <tr>\n      <th>...</th>\n      <td>...</td>\n      <td>...</td>\n    </tr>\n    <tr>\n      <th>2022-02-17 09:30:00</th>\n      <td>0.033967</td>\n      <td>5.000000</td>\n    </tr>\n    <tr>\n      <th>2022-02-18 09:30:00</th>\n      <td>0.010634</td>\n      <td>5.000000</td>\n    </tr>\n    <tr>\n      <th>2022-02-22 09:30:00</th>\n      <td>-0.008057</td>\n      <td>5.000000</td>\n    </tr>\n    <tr>\n      <th>2022-02-23 09:30:00</th>\n      <td>0.000870</td>\n      <td>5.000000</td>\n    </tr>\n    <tr>\n      <th>2022-02-24 09:30:00</th>\n      <td>-0.066574</td>\n      <td>5.000000</td>\n    </tr>\n  </tbody>\n</table>\n<p>44749 rows × 2 columns</p>\n</div>"
     },
     "execution_count": 104,
     "metadata": {},
     "output_type": "execute_result"
    }
   ],
   "source": [
    "training_data_candidates"
   ],
   "metadata": {
    "collapsed": false,
    "pycharm": {
     "name": "#%%\n"
    }
   }
  },
  {
   "cell_type": "code",
   "execution_count": 104,
   "outputs": [],
   "source": [],
   "metadata": {
    "collapsed": false,
    "pycharm": {
     "name": "#%%\n"
    }
   }
  }
 ],
 "metadata": {
  "kernelspec": {
   "display_name": "Python 3 (ipykernel)",
   "language": "python",
   "name": "python3"
  },
  "language_info": {
   "codemirror_mode": {
    "name": "ipython",
    "version": 3
   },
   "file_extension": ".py",
   "mimetype": "text/x-python",
   "name": "python",
   "nbconvert_exporter": "python",
   "pygments_lexer": "ipython3",
   "version": "3.8.3"
  }
 },
 "nbformat": 4,
 "nbformat_minor": 1
}